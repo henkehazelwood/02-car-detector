{
 "cells": [
  {
   "cell_type": "code",
   "execution_count": null,
   "id": "49ff7621-c3a1-453c-b697-659c91b896fd",
   "metadata": {},
   "outputs": [],
   "source": [
    "!pip install gradio torch numpy"
   ]
  },
  {
   "cell_type": "code",
   "execution_count": 4,
   "id": "af71333a-c54c-496f-a581-b8c260e77852",
   "metadata": {},
   "outputs": [],
   "source": [
    "import gradio as gr"
   ]
  },
  {
   "cell_type": "code",
   "execution_count": 7,
   "id": "9fcf35c8-64e5-4b1b-b9fd-b55a4f478bf8",
   "metadata": {},
   "outputs": [
    {
     "name": "stdout",
     "output_type": "stream",
     "text": [
      "⚠️ Warning: CUDA not available. PyTorch will use CPU.\n"
     ]
    }
   ],
   "source": [
    "# --- Pre-flight checks ---\n",
    "try:\n",
    "    from check_requirements import check_python_version, check_packages, check_cuda\n",
    "    check_python_version()\n",
    "    check_packages()\n",
    "    check_cuda()\n",
    "except Exception as e:\n",
    "    print(f\"⛔ Failed pre-flight checks: {e}\")\n",
    "    raise  # Stop execution if checks fail"
   ]
  },
  {
   "cell_type": "code",
   "execution_count": null,
   "id": "6c366015-2550-4e68-817e-e32d8a16c089",
   "metadata": {},
   "outputs": [],
   "source": []
  }
 ],
 "metadata": {
  "kernelspec": {
   "display_name": "Python 3 (ipykernel)",
   "language": "python",
   "name": "python3"
  },
  "language_info": {
   "codemirror_mode": {
    "name": "ipython",
    "version": 3
   },
   "file_extension": ".py",
   "mimetype": "text/x-python",
   "name": "python",
   "nbconvert_exporter": "python",
   "pygments_lexer": "ipython3",
   "version": "3.12.10"
  }
 },
 "nbformat": 4,
 "nbformat_minor": 5
}
