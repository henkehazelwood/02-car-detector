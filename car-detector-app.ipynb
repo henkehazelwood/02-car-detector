{
 "cells": [
  {
   "cell_type": "markdown",
   "id": "d93d5228-f938-458a-add2-891d1ea151b0",
   "metadata": {},
   "source": [
    "## Car-detector app"
   ]
  },
  {
   "cell_type": "code",
   "execution_count": null,
   "id": "49ff7621-c3a1-453c-b697-659c91b896fd",
   "metadata": {},
   "outputs": [],
   "source": [
    "!pip install gradio torch numpy"
   ]
  },
  {
   "cell_type": "code",
   "execution_count": 4,
   "id": "af71333a-c54c-496f-a581-b8c260e77852",
   "metadata": {},
   "outputs": [],
   "source": [
    "import gradio as gr"
   ]
  },
  {
   "cell_type": "code",
   "execution_count": null,
   "id": "c887372b-28bb-49a1-abf8-6b7b27c8fc0c",
   "metadata": {},
   "outputs": [],
   "source": []
  }
 ],
 "metadata": {
  "kernelspec": {
   "display_name": "Python 3 (ipykernel)",
   "language": "python",
   "name": "python3"
  },
  "language_info": {
   "codemirror_mode": {
    "name": "ipython",
    "version": 3
   },
   "file_extension": ".py",
   "mimetype": "text/x-python",
   "name": "python",
   "nbconvert_exporter": "python",
   "pygments_lexer": "ipython3",
   "version": "3.12.10"
  }
 },
 "nbformat": 4,
 "nbformat_minor": 5
}
