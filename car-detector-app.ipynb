{
 "cells": [
  {
   "cell_type": "markdown",
   "id": "d93d5228-f938-458a-add2-891d1ea151b0",
   "metadata": {},
   "source": [
    "## Car-detector app"
   ]
  },
  {
   "cell_type": "code",
   "execution_count": null,
   "id": "49ff7621-c3a1-453c-b697-659c91b896fd",
   "metadata": {},
   "outputs": [],
   "source": [
    "!pip install gradio torch numpy"
   ]
  },
  {
   "cell_type": "code",
   "execution_count": 4,
   "id": "af71333a-c54c-496f-a581-b8c260e77852",
   "metadata": {},
   "outputs": [],
   "source": [
    "import gradio as gr"
   ]
  },
  {
   "cell_type": "code",
   "execution_count": null,
   "id": "c887372b-28bb-49a1-abf8-6b7b27c8fc0c",
   "metadata": {},
   "outputs": [],
   "source": [
    "learn = load_learner('model.pkl')"
   ]
  },
  {
   "cell_type": "code",
   "execution_count": null,
   "id": "8500ee8d-6baa-408c-9a5d-e0d924f062c6",
   "metadata": {},
   "outputs": [],
   "source": [
    "labels = learn.dls.vocab\n",
    "def predict(img):\n",
    "    img = PILImage.create(img)\n",
    "    pred,pred_idx,probs = learn.predict(img)\n",
    "    return {labels[i]: float(probs[i]) for i in range(len(labels))}"
   ]
  },
  {
   "cell_type": "code",
   "execution_count": null,
   "id": "c2b7c53b-0f98-40e8-9317-d54ff2df7c26",
   "metadata": {},
   "outputs": [],
   "source": [
    "gr.Interface(fn=predict, inputs=gr.inputs.Image(shape=(512, 512)), outputs=gr.outputs.Label(num_top_classes=3)).launch(share=True)"
   ]
  }
 ],
 "metadata": {
  "kernelspec": {
   "display_name": "Python 3 (ipykernel)",
   "language": "python",
   "name": "python3"
  },
  "language_info": {
   "codemirror_mode": {
    "name": "ipython",
    "version": 3
   },
   "file_extension": ".py",
   "mimetype": "text/x-python",
   "name": "python",
   "nbconvert_exporter": "python",
   "pygments_lexer": "ipython3",
   "version": "3.12.10"
  }
 },
 "nbformat": 4,
 "nbformat_minor": 5
}
